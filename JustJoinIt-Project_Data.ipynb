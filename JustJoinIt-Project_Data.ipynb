{
 "cells": [
  {
   "cell_type": "markdown",
   "id": "5991bedd-3cda-4c7b-a897-266634383da3",
   "metadata": {},
   "source": [
    "# **Project: Investigate a Dataset (Polish IT job board data from 2022)**"
   ]
  },
  {
   "cell_type": "markdown",
   "id": "5f83a9f0-311e-4afb-bba5-3d309ea90fe2",
   "metadata": {},
   "source": [
    "## The data extraction range is from February 2022-November 2022."
   ]
  },
  {
   "cell_type": "markdown",
   "id": "a0171ee0-a1b0-4e31-90ae-f8ff14686a4f",
   "metadata": {},
   "source": [
    "#### In this project I will be analyzing economic datasets downloaded from the Kaggler website (https://www.kaggle.com/datasets/kriegsmaschine/polish-it-job-board-data-from-2022) to analyze IT job offers market in Poland, based on the most popular job website. Different variables for measurement will be used, which are:\n",
    "* Number of bids by experience\n",
    "* Number of offers in Polish cities\n",
    "* Main skills based on experience"
   ]
  },
  {
   "cell_type": "markdown",
   "id": "311c6355-3ab5-4fc2-a8f4-b33edc1ac11a",
   "metadata": {},
   "source": [
    "#### **We will be answering the following questions in our data exploration:**\n",
    "* In our data mining, we will answer the following questions:\n",
    "* What is the requirement in the market for employment by experience?\n",
    "* Which cities have a need for more and which for less experienced workers?\n",
    "* Which technology is currently most in demand?"
   ]
  },
  {
   "cell_type": "markdown",
   "id": "fc22483e-fdde-415f-aac6-56f9b0a0ba66",
   "metadata": {},
   "source": [
    "#### **Note:**\n",
    "#### The data extraction range is from February 2022-November 2022."
   ]
  },
  {
   "cell_type": "code",
   "execution_count": 4,
   "id": "d0ef0088-c4fc-4ee6-8bef-84e107bd1a88",
   "metadata": {},
   "outputs": [],
   "source": [
    "import pandas as pd\n",
    "import numpy as np\n",
    "import matplotlib.pyplot as plt\n",
    "import math as math"
   ]
  },
  {
   "cell_type": "code",
   "execution_count": 5,
   "id": "e381b08c-cb3a-4b4b-be01-aff7383baa63",
   "metadata": {},
   "outputs": [],
   "source": [
    "# Read the database\n",
    "\n",
    "jjit = pd.read_csv('/Users/michaladryjanek/Desktop/justjoin.csv')"
   ]
  },
  {
   "cell_type": "code",
   "execution_count": 7,
   "id": "b23431bc-ba67-4ea0-8c34-00fef4ecc88b",
   "metadata": {},
   "outputs": [],
   "source": [
    "# Let's look how database looks like\n",
    "jjit.head()"
   ]
  },
  {
   "cell_type": "markdown",
   "id": "4a2aa563-2dd6-4917-b101-edc014f0f376",
   "metadata": {},
   "source": [
    "#### **Initial Observations**\n",
    "\n",
    "#### We can see the exact date of publication of the announcement. We will isolate the month of publication of the ad to see the number of offers in a particular month on this basis."
   ]
  },
  {
   "cell_type": "code",
   "execution_count": 10,
   "id": "73fac229-7627-4b61-976c-28f9d52725e9",
   "metadata": {},
   "outputs": [
    {
     "data": {
      "text/html": [
       "<div>\n",
       "<style scoped>\n",
       "    .dataframe tbody tr th:only-of-type {\n",
       "        vertical-align: middle;\n",
       "    }\n",
       "\n",
       "    .dataframe tbody tr th {\n",
       "        vertical-align: top;\n",
       "    }\n",
       "\n",
       "    .dataframe thead th {\n",
       "        text-align: right;\n",
       "    }\n",
       "</style>\n",
       "<table border=\"1\" class=\"dataframe\">\n",
       "  <thead>\n",
       "    <tr style=\"text-align: right;\">\n",
       "      <th></th>\n",
       "      <th>Title</th>\n",
       "      <th>Experience_level</th>\n",
       "      <th>Month_of_Publish</th>\n",
       "    </tr>\n",
       "  </thead>\n",
       "  <tbody>\n",
       "    <tr>\n",
       "      <th>0</th>\n",
       "      <td>Senior Frontend Software Engineer</td>\n",
       "      <td>senior</td>\n",
       "      <td>7</td>\n",
       "    </tr>\n",
       "    <tr>\n",
       "      <th>1</th>\n",
       "      <td>Sr. Backend Engineer</td>\n",
       "      <td>senior</td>\n",
       "      <td>7</td>\n",
       "    </tr>\n",
       "    <tr>\n",
       "      <th>2</th>\n",
       "      <td>Sr. Backend Engineer</td>\n",
       "      <td>senior</td>\n",
       "      <td>5</td>\n",
       "    </tr>\n",
       "    <tr>\n",
       "      <th>3</th>\n",
       "      <td>Sr. Backend Engineer</td>\n",
       "      <td>senior</td>\n",
       "      <td>5</td>\n",
       "    </tr>\n",
       "    <tr>\n",
       "      <th>4</th>\n",
       "      <td>Python Developer (4 days/week)</td>\n",
       "      <td>mid</td>\n",
       "      <td>6</td>\n",
       "    </tr>\n",
       "    <tr>\n",
       "      <th>...</th>\n",
       "      <td>...</td>\n",
       "      <td>...</td>\n",
       "      <td>...</td>\n",
       "    </tr>\n",
       "    <tr>\n",
       "      <th>37782</th>\n",
       "      <td>Programista Java</td>\n",
       "      <td>mid</td>\n",
       "      <td>10</td>\n",
       "    </tr>\n",
       "    <tr>\n",
       "      <th>37783</th>\n",
       "      <td>Angular Developer</td>\n",
       "      <td>mid</td>\n",
       "      <td>10</td>\n",
       "    </tr>\n",
       "    <tr>\n",
       "      <th>37784</th>\n",
       "      <td>Analityk/Projektant</td>\n",
       "      <td>mid</td>\n",
       "      <td>10</td>\n",
       "    </tr>\n",
       "    <tr>\n",
       "      <th>37785</th>\n",
       "      <td>Programista Java</td>\n",
       "      <td>mid</td>\n",
       "      <td>10</td>\n",
       "    </tr>\n",
       "    <tr>\n",
       "      <th>37786</th>\n",
       "      <td>Programista Java</td>\n",
       "      <td>mid</td>\n",
       "      <td>10</td>\n",
       "    </tr>\n",
       "  </tbody>\n",
       "</table>\n",
       "<p>37787 rows × 3 columns</p>\n",
       "</div>"
      ],
      "text/plain": [
       "                                   Title Experience_level  Month_of_Publish\n",
       "0      Senior Frontend Software Engineer           senior                 7\n",
       "1                   Sr. Backend Engineer           senior                 7\n",
       "2                   Sr. Backend Engineer           senior                 5\n",
       "3                   Sr. Backend Engineer           senior                 5\n",
       "4         Python Developer (4 days/week)              mid                 6\n",
       "...                                  ...              ...               ...\n",
       "37782                   Programista Java              mid                10\n",
       "37783                  Angular Developer              mid                10\n",
       "37784                Analityk/Projektant              mid                10\n",
       "37785                   Programista Java              mid                10\n",
       "37786                   Programista Java              mid                10\n",
       "\n",
       "[37787 rows x 3 columns]"
      ]
     },
     "execution_count": 10,
     "metadata": {},
     "output_type": "execute_result"
    }
   ],
   "source": [
    "# Add month column\n",
    "jjit['Month_of_Publish'] = jjit['Published_at'].str[5:7]\n",
    "jjit['Month_of_Publish'] = jjit['Month_of_Publish'].astype('int32')\n",
    "# Filtering the chart\n",
    "jjit.filter(items=['Title', 'Experience_level', 'Month_of_Publish'])"
   ]
  },
  {
   "cell_type": "code",
   "execution_count": 12,
   "id": "a0f0acf9-42b1-4097-8da0-0c4e04015088",
   "metadata": {},
   "outputs": [],
   "source": [
    "# Checking how many offers there are in general \n",
    "jjit['Month_of_Publish'].value_counts()"
   ]
  },
  {
   "cell_type": "code",
   "execution_count": 14,
   "id": "8e3eddbc-73ad-4473-b457-472155bfd0d0",
   "metadata": {},
   "outputs": [],
   "source": [
    "# Checking how many bids there are in each experience category\n",
    "jjit['Experience_level'].value_counts()"
   ]
  },
  {
   "cell_type": "code",
   "execution_count": 17,
   "id": "ade3f2cf-082d-48b2-999e-3183f7013f34",
   "metadata": {},
   "outputs": [
    {
     "data": {
      "image/png": "[encoded data removed]",
      "text/plain": [
       "<Figure size 1080x576 with 1 Axes>"
      ]
     },
     "metadata": {
      "needs_background": "light"
     },
     "output_type": "display_data"
    }
   ],
   "source": [
    "import matplotlib.pyplot as plt\n",
    "\n",
    "numbers_of_offers = {'Experience_level': ['senior', 'mid', 'junior'],\n",
    "                     'Numbers_of_offers': [20106, 12458, 5223]}\n",
    "numbers_of_offers = pd.DataFrame(numbers_of_offers)\n",
    "numbers_of_offers\n",
    "\n",
    "fig, ax = plt.subplots(figsize=(15, 8))\n",
    "\n",
    "\n",
    "experience_level = numbers_of_offers['Experience_level']\n",
    "numers_of_offers = numbers_of_offers['Numbers_of_offers']\n",
    "\n",
    "\n",
    "ax.bar(experience_level, numers_of_offers)\n",
    "\n",
    "ax.set_ylabel('Numbers of offer')\n",
    "ax.set_title('Nummber of offer vs. experiance level')\n",
    "\n",
    "plt.show()"
   ]
  },
  {
   "cell_type": "code",
   "execution_count": 26,
   "id": "57c35b43-d2ee-403b-add4-536a5b54e09d",
   "metadata": {},
   "outputs": [],
   "source": [
    "# Filtering offers based on experiance\n",
    "\n",
    "JuniorJobs = jjit.Experience_level == \"junior\"\n",
    "MidJobs = jjit.Experience_level == \"mid\"\n",
    "SeniorJobs = jjit.Experience_level == \"senior\""
   ]
  },
  {
   "cell_type": "code",
   "execution_count": 23,
   "id": "0f1b5d8d-352a-44e6-be2b-21a15be12871",
   "metadata": {},
   "outputs": [
    {
     "data": {
      "text/plain": [
       "4     3934\n",
       "10    1711\n",
       "3     1341\n",
       "5     1276\n",
       "6     1181\n",
       "7      966\n",
       "8      709\n",
       "9      532\n",
       "11     471\n",
       "2      337\n",
       "Name: Month_of_Publish, dtype: int64"
      ]
     },
     "execution_count": 23,
     "metadata": {},
     "output_type": "execute_result"
    }
   ],
   "source": [
    "# Counting offers for every month\n",
    "\n",
    "jjit[JuniorJobs]['Month_of_Publish'].value_counts()\n",
    "\n",
    "jjit[MidJobs]['Month_of_Publish'].value_counts()\n",
    "\n",
    "jjit[SeniorJobs]['Month_of_Publish'].value_counts()"
   ]
  },
  {
   "cell_type": "code",
   "execution_count": 25,
   "id": "a1d0dd6a-0638-440c-951e-ceaea80efbec",
   "metadata": {},
   "outputs": [
    {
     "data": {
      "text/plain": [
       "4     6437\n",
       "10    2649\n",
       "3     2250\n",
       "5     2092\n",
       "6     1888\n",
       "7     1558\n",
       "8     1069\n",
       "9      837\n",
       "2      669\n",
       "11     657\n",
       "Name: Month_of_Publish, dtype: int64"
      ]
     },
     "execution_count": 25,
     "metadata": {},
     "output_type": "execute_result"
    }
   ],
   "source": [
    "jjit[MidJobs]['Month_of_Publish'].value_counts()"
   ]
  },
  {
   "cell_type": "code",
   "execution_count": 60,
   "id": "cc611f4c-08cc-4d9a-a39b-6f2b04081557",
   "metadata": {},
   "outputs": [
    {
     "data": {
      "text/plain": [
       "4     1626\n",
       "6      722\n",
       "3      647\n",
       "5      620\n",
       "7      575\n",
       "10     453\n",
       "8      169\n",
       "2      160\n",
       "9      157\n",
       "11      94\n",
       "Name: Month_of_Publish, dtype: int64"
      ]
     },
     "execution_count": 60,
     "metadata": {},
     "output_type": "execute_result"
    }
   ],
   "source": [
    "jjit[JuniorJobs]['Month_of_Publish'].value_counts()"
   ]
  },
  {
   "cell_type": "code",
   "execution_count": 27,
   "id": "525cad29-67fe-4f0e-bd31-7c7b761eb920",
   "metadata": {},
   "outputs": [
    {
     "data": {
      "text/html": [
       "<div>\n",
       "<style scoped>\n",
       "    .dataframe tbody tr th:only-of-type {\n",
       "        vertical-align: middle;\n",
       "    }\n",
       "\n",
       "    .dataframe tbody tr th {\n",
       "        vertical-align: top;\n",
       "    }\n",
       "\n",
       "    .dataframe thead th {\n",
       "        text-align: right;\n",
       "    }\n",
       "</style>\n",
       "<table border=\"1\" class=\"dataframe\">\n",
       "  <thead>\n",
       "    <tr style=\"text-align: right;\">\n",
       "      <th></th>\n",
       "      <th>Month_of_Publish</th>\n",
       "      <th>senior_numer_of_offers</th>\n",
       "      <th>junior_numer_of_offers</th>\n",
       "      <th>mid_numer_of_offers</th>\n",
       "    </tr>\n",
       "  </thead>\n",
       "  <tbody>\n",
       "    <tr>\n",
       "      <th>9</th>\n",
       "      <td>2</td>\n",
       "      <td>337</td>\n",
       "      <td>94</td>\n",
       "      <td>657</td>\n",
       "    </tr>\n",
       "    <tr>\n",
       "      <th>2</th>\n",
       "      <td>3</td>\n",
       "      <td>1341</td>\n",
       "      <td>647</td>\n",
       "      <td>2250</td>\n",
       "    </tr>\n",
       "    <tr>\n",
       "      <th>0</th>\n",
       "      <td>4</td>\n",
       "      <td>3934</td>\n",
       "      <td>1626</td>\n",
       "      <td>6437</td>\n",
       "    </tr>\n",
       "    <tr>\n",
       "      <th>3</th>\n",
       "      <td>5</td>\n",
       "      <td>1276</td>\n",
       "      <td>620</td>\n",
       "      <td>2092</td>\n",
       "    </tr>\n",
       "    <tr>\n",
       "      <th>4</th>\n",
       "      <td>6</td>\n",
       "      <td>1181</td>\n",
       "      <td>575</td>\n",
       "      <td>1888</td>\n",
       "    </tr>\n",
       "    <tr>\n",
       "      <th>5</th>\n",
       "      <td>7</td>\n",
       "      <td>966</td>\n",
       "      <td>453</td>\n",
       "      <td>1558</td>\n",
       "    </tr>\n",
       "    <tr>\n",
       "      <th>6</th>\n",
       "      <td>8</td>\n",
       "      <td>709</td>\n",
       "      <td>169</td>\n",
       "      <td>1069</td>\n",
       "    </tr>\n",
       "    <tr>\n",
       "      <th>7</th>\n",
       "      <td>9</td>\n",
       "      <td>532</td>\n",
       "      <td>160</td>\n",
       "      <td>837</td>\n",
       "    </tr>\n",
       "    <tr>\n",
       "      <th>1</th>\n",
       "      <td>10</td>\n",
       "      <td>1711</td>\n",
       "      <td>722</td>\n",
       "      <td>2649</td>\n",
       "    </tr>\n",
       "    <tr>\n",
       "      <th>8</th>\n",
       "      <td>11</td>\n",
       "      <td>471</td>\n",
       "      <td>157</td>\n",
       "      <td>669</td>\n",
       "    </tr>\n",
       "  </tbody>\n",
       "</table>\n",
       "</div>"
      ],
      "text/plain": [
       "   Month_of_Publish  senior_numer_of_offers  junior_numer_of_offers  \\\n",
       "9                 2                     337                      94   \n",
       "2                 3                    1341                     647   \n",
       "0                 4                    3934                    1626   \n",
       "3                 5                    1276                     620   \n",
       "4                 6                    1181                     575   \n",
       "5                 7                     966                     453   \n",
       "6                 8                     709                     169   \n",
       "7                 9                     532                     160   \n",
       "1                10                    1711                     722   \n",
       "8                11                     471                     157   \n",
       "\n",
       "   mid_numer_of_offers  \n",
       "9                  657  \n",
       "2                 2250  \n",
       "0                 6437  \n",
       "3                 2092  \n",
       "4                 1888  \n",
       "5                 1558  \n",
       "6                 1069  \n",
       "7                  837  \n",
       "1                 2649  \n",
       "8                  669  "
      ]
     },
     "execution_count": 27,
     "metadata": {},
     "output_type": "execute_result"
    }
   ],
   "source": [
    "# Making new frame for numbers of offers based on experiance\n",
    "\n",
    "senior_number_of_offers = {'Month_of_Publish': [4, 10, 3,5,6,7,8,9,11,2],\n",
    "                     'senior_numer_of_offers': [3934, 1711, 1341, 1276, 1181, 966, 709, 532, 471, 337],\n",
    "                          }                     \n",
    "senior_number_of_offers = pd.DataFrame(senior_number_of_offers)\n",
    "\n",
    "###################################################################################################\n",
    "\n",
    "mid_number_of_offers = {'Month_of_Publish': [4, 10, 3,5,6,7,8,9,11,2],\n",
    "                     'mid_numer_of_offers': [6437, 2649, 2250, 2092, 1888, 1558, 1069, 837, 669, 657],\n",
    "                       }\n",
    "mid_number_of_offers = pd.DataFrame(mid_number_of_offers)\n",
    "\n",
    "###################################################################################################\n",
    "\n",
    "junior_number_of_offers = {'Month_of_Publish': [4, 10, 3,5,6,7,8,9,11,2],\n",
    "                     'junior_numer_of_offers': [1626, 722, 647, 620, 575, 453, 169, 160, 157, 94],\n",
    "                       }\n",
    "junior_number_of_offers = pd.DataFrame(junior_number_of_offers)\n",
    "\n",
    "js = senior_number_of_offers.merge(junior_number_of_offers)\n",
    "all = js.merge(mid_number_of_offers).sort_values(by='Month_of_Publish')\n",
    "all"
   ]
  },
  {
   "cell_type": "code",
   "execution_count": 62,
   "id": "58aadd89-c91a-443c-b305-ba8ea47fa75d",
   "metadata": {},
   "outputs": [
    {
     "data": {
      "image/png": "[encoded data removed]",
      "text/plain": [
       "<Figure size 864x576 with 1 Axes>"
      ]
     },
     "metadata": {
      "needs_background": "light"
     },
     "output_type": "display_data"
    }
   ],
   "source": [
    "# comparison of experience to number of offers\n",
    "\n",
    "plt.figure(figsize=(12,8))\n",
    "\n",
    "plt.title('Comparison of experience to number of offers', fontdict={'fontweight':'bold', 'fontsize': 18})\n",
    "\n",
    "junior = plt.plot(all.Month_of_Publish, all.junior_numer_of_offers, 'b.-', label='junior')\n",
    "mid = plt.plot(all.Month_of_Publish, all.mid_numer_of_offers, 'r.-', label='mid')\n",
    "senior = plt.plot(all.Month_of_Publish, all.senior_numer_of_offers, 'g.-', label='senior')\n",
    "\n",
    "\n",
    "plt.xticks(all.Month_of_Publish)\n",
    "\n",
    "\n",
    "plt.xlabel('Months')\n",
    "plt.ylabel('Numbers of offers')\n",
    "\n",
    "plt.legend(fontsize=15)\n",
    "\n",
    "plt.show()"
   ]
  },
  {
   "cell_type": "code",
   "execution_count": null,
   "id": "9101264d-a5df-44a4-9d86-407740e4a048",
   "metadata": {},
   "outputs": [],
   "source": []
  }
 ],
 "metadata": {
  "kernelspec": {
   "display_name": "Python 3 (ipykernel)",
   "language": "python",
   "name": "python3"
  },
  "language_info": {
   "codemirror_mode": {
    "name": "ipython",
    "version": 3
   },
   "file_extension": ".py",
   "mimetype": "text/x-python",
   "name": "python",
   "nbconvert_exporter": "python",
   "pygments_lexer": "ipython3",
   "version": "3.9.12"
  }
 },
 "nbformat": 4,
 "nbformat_minor": 5
}
